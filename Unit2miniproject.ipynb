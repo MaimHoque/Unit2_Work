{
  "nbformat": 4,
  "nbformat_minor": 0,
  "metadata": {
    "colab": {
      "name": "Unit2miniproject.ipynb",
      "provenance": [],
      "authorship_tag": "ABX9TyMCMyKNvJERZbqFcLf0C4bw",
      "include_colab_link": true
    },
    "kernelspec": {
      "name": "python3",
      "display_name": "Python 3"
    }
  },
  "cells": [
    {
      "cell_type": "markdown",
      "metadata": {
        "id": "view-in-github",
        "colab_type": "text"
      },
      "source": [
        "<a href=\"https://colab.research.google.com/github/MaimHoque/Unit2_Work/blob/main/Unit2miniproject.ipynb\" target=\"_parent\"><img src=\"https://colab.research.google.com/assets/colab-badge.svg\" alt=\"Open In Colab\"/></a>"
      ]
    },
    {
      "cell_type": "code",
      "metadata": {
        "id": "TkiPWUBNuZPK"
      },
      "source": [
        ""
      ],
      "execution_count": null,
      "outputs": []
    },
    {
      "cell_type": "code",
      "metadata": {
        "colab": {
          "base_uri": "https://localhost:8080/"
        },
        "id": "7x-l-kTqs3ep",
        "outputId": "5bf100da-555a-4bdf-f9b8-f1f108147458"
      },
      "source": [
        "num = int(input(\"Enter a number \"))\r\n",
        "\r\n",
        "\r\n",
        "if (num % 2 ==0) : \r\n",
        "  print(\"It is even\")\r\n",
        "else: \r\n",
        "  print(\"This is odd\")\r\n",
        "\r\n"
      ],
      "execution_count": 1,
      "outputs": [
        {
          "output_type": "stream",
          "text": [
            "Enter a number 5\n",
            "This is odd\n"
          ],
          "name": "stdout"
        }
      ]
    }
  ]
}